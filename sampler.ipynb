{
 "cells": [
  {
   "cell_type": "code",
   "execution_count": 1,
   "id": "fabe28c1-005b-41a6-996b-d270a7661eae",
   "metadata": {},
   "outputs": [],
   "source": [
    "import torch\n",
    "import torchaudio\n",
    "from supervoice.tokenizer import Tokenizer\n",
    "from supervoice.config import config\n",
    "from training.dataset import create_single_sampler, create_batch_sampler"
   ]
  },
  {
   "cell_type": "code",
   "execution_count": 2,
   "id": "4c2358ad-414c-4587-bfbc-d254f25b3455",
   "metadata": {},
   "outputs": [],
   "source": [
    "tokenizer = Tokenizer(config)\n",
    "single_sampler = create_single_sampler([\"vctk\"])\n",
    "batch_sampler = create_batch_sampler(single_sampler, tokenizer, frames = 7500)"
   ]
  },
  {
   "cell_type": "code",
   "execution_count": 14,
   "id": "70e98e13-383f-4133-88f5-87cd65b84295",
   "metadata": {},
   "outputs": [
    {
     "name": "stdout",
     "output_type": "stream",
     "text": [
      "5556\n",
      "3661\n",
      "torch.Size([12, 463, 100])\n"
     ]
    }
   ],
   "source": [
    "phonemes, styles, audio, lengths = batch_sampler()\n",
    "print(phonemes.shape[0] * phonemes.shape[1])\n",
    "print(sum(lengths))\n",
    "print(audio.shape)"
   ]
  },
  {
   "cell_type": "code",
   "execution_count": 4,
   "id": "ca23f33c-bb6d-414d-afe5-44411d2159d6",
   "metadata": {},
   "outputs": [
    {
     "name": "stderr",
     "output_type": "stream",
     "text": [
      "Downloading: \"https://github.com/ex3ndr/supervoice-flow/zipball/main\" to /home/steve/.cache/torch/hub/main.zip\n"
     ]
    },
    {
     "data": {
      "text/plain": [
       "AudioFlow(\n",
       "  (transformer_input): Linear(in_features=200, out_features=1024, bias=True)\n",
       "  (sinu_pos_emb): LearnedSinusoidalPosEmb()\n",
       "  (conv_embed): ConvPositionEmbed(\n",
       "    (dw_conv1d): Sequential(\n",
       "      (0): Conv1d(1024, 1024, kernel_size=(31,), stride=(1,), padding=(15,), groups=1024)\n",
       "      (1): GELU(approximate='none')\n",
       "    )\n",
       "  )\n",
       "  (transformer): Transformer(\n",
       "    (layers): ModuleList(\n",
       "      (0-23): 24 x AttentionBlock(\n",
       "        (attention_ln): RMSNorm()\n",
       "        (attention): Linear(in_features=1024, out_features=3072, bias=False)\n",
       "        (attention_output): Linear(in_features=1024, out_features=1024, bias=False)\n",
       "        (mlp_ln): RMSNorm()\n",
       "        (mlp_input): Linear(in_features=1024, out_features=4096, bias=True)\n",
       "        (mlp_output): Linear(in_features=4096, out_features=1024, bias=True)\n",
       "        (mlp_output_dropout): Dropout(p=0.1, inplace=False)\n",
       "      )\n",
       "    )\n",
       "    (skip_combiners): ModuleList(\n",
       "      (0-11): 12 x Linear(in_features=2048, out_features=1024, bias=True)\n",
       "    )\n",
       "    (output_norm): RMSNorm()\n",
       "  )\n",
       "  (prediction): Linear(in_features=1024, out_features=100, bias=True)\n",
       ")"
      ]
     },
     "execution_count": 4,
     "metadata": {},
     "output_type": "execute_result"
    }
   ],
   "source": [
    "torch.hub.load(repo_or_dir='ex3ndr/supervoice-flow', model='flow', force_reload = True)"
   ]
  },
  {
   "cell_type": "code",
   "execution_count": null,
   "id": "0885002a-c8e2-4985-aa31-38c244042a10",
   "metadata": {},
   "outputs": [],
   "source": []
  }
 ],
 "metadata": {
  "kernelspec": {
   "display_name": "Python 3 (ipykernel)",
   "language": "python",
   "name": "python3"
  },
  "language_info": {
   "codemirror_mode": {
    "name": "ipython",
    "version": 3
   },
   "file_extension": ".py",
   "mimetype": "text/x-python",
   "name": "python",
   "nbconvert_exporter": "python",
   "pygments_lexer": "ipython3",
   "version": "3.10.13"
  }
 },
 "nbformat": 4,
 "nbformat_minor": 5
}
